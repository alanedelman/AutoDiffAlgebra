{
 "cells": [
  {
   "cell_type": "code",
   "execution_count": 1,
   "metadata": {},
   "outputs": [],
   "source": [
    "using LinearAlgebra"
   ]
  },
  {
   "cell_type": "code",
   "execution_count": 2,
   "metadata": {},
   "outputs": [
    {
     "data": {
      "text/plain": [
       "init (generic function with 1 method)"
      ]
     },
     "execution_count": 2,
     "metadata": {},
     "output_type": "execute_result"
    }
   ],
   "source": [
    "h(x) = exp(-x)\n",
    "h′(x,y) = -y\n",
    "𝓁(x,y) = sum(abs2,x-y)/2\n",
    "𝓁′(x,y) = x-y\n",
    "init(sizes...) = 0.1randn(sizes...)"
   ]
  },
  {
   "cell_type": "code",
   "execution_count": 3,
   "metadata": {},
   "outputs": [
    {
     "data": {
      "text/plain": [
       "7"
      ]
     },
     "execution_count": 3,
     "metadata": {},
     "output_type": "execute_result"
    }
   ],
   "source": [
    "𝜀 = .0001\n",
    "n = [5,4,3,1]\n",
    "N = length(n)-1\n",
    "B = 7"
   ]
  },
  {
   "cell_type": "markdown",
   "metadata": {},
   "source": [
    "### Scalar Neural Network"
   ]
  },
  {
   "cell_type": "code",
   "execution_count": 4,
   "metadata": {},
   "outputs": [
    {
     "data": {
      "text/plain": [
       "neural_net (generic function with 1 method)"
      ]
     },
     "execution_count": 4,
     "metadata": {},
     "output_type": "execute_result"
    }
   ],
   "source": [
    "function neural_net(params, input; h=h, h′=h′, N=length(params))\n",
    "    δ = [];\n",
    "    X = [input];\n",
    "    for i=1:N\n",
    "        x = sum(params[i] .* [X[i],1])\n",
    "        push!(X,h(x))\n",
    "        push!(δ, h′.(x,X[i+1]))\n",
    "    end\n",
    "    return X,δ\n",
    "end\n"
   ]
  },
  {
   "cell_type": "code",
   "execution_count": 5,
   "metadata": {},
   "outputs": [
    {
     "data": {
      "text/plain": [
       "(0.07672914106422761, -0.06442261441765063)"
      ]
     },
     "execution_count": 5,
     "metadata": {},
     "output_type": "execute_result"
    }
   ],
   "source": [
    "params =[[init(),init()] for i=1:N] # W and B\n",
    "x,y = init(),init() # input and output"
   ]
  },
  {
   "cell_type": "code",
   "execution_count": 6,
   "metadata": {},
   "outputs": [
    {
     "data": {
      "text/plain": [
       "3-element Array{Array{Float64,1},1}:\n",
       " [-0.000313304, -0.00408325]\n",
       " [-0.0779776, -0.0748074]   \n",
       " [-1.47829, -1.11171]       "
      ]
     },
     "execution_count": 6,
     "metadata": {},
     "output_type": "execute_result"
    }
   ],
   "source": [
    "X,δ = neural_net(params,x)\n",
    "L   = Bidiagonal(zeros(N),[δ[i] * params[i][1] for i=2:N],:L)\n",
    "D   = Diagonal(δ.*[[X[i],1]' for i=1:N])\n",
    "g   = [zeros(N-1);𝓁′(X[N+1],y)]\n",
    "∇J  = D'*((I-L')\\g)"
   ]
  },
  {
   "cell_type": "code",
   "execution_count": 7,
   "metadata": {},
   "outputs": [
    {
     "data": {
      "text/plain": [
       "3-element Array{Array{Float64,1},1}:\n",
       " [-0.000313304, -0.00408325]\n",
       " [-0.0779776, -0.0748074]   \n",
       " [-1.47829, -1.11171]       "
      ]
     },
     "execution_count": 7,
     "metadata": {},
     "output_type": "execute_result"
    }
   ],
   "source": [
    "# ∇Jfd is gradient calculated with finite differences method\n",
    "∇Jfd = ∇J * 0\n",
    "ϵ    = ∇J * 0\n",
    "for i=1:N, j=1:2       \n",
    "    ϵ[i][j] = 𝜀\n",
    "    ∇Jfd[i][j]=(𝓁(neural_net(params.+ϵ,x)[1][N+1],y)-𝓁(neural_net(params.-ϵ,x)[1][N+1],y))/2𝜀\n",
    "    ϵ[i][j] = .0\n",
    "end\n",
    "∇Jfd"
   ]
  },
  {
   "cell_type": "markdown",
   "metadata": {},
   "source": [
    "### Simple Matrix Neural Network"
   ]
  },
  {
   "cell_type": "code",
   "execution_count": 8,
   "metadata": {
    "scrolled": true
   },
   "outputs": [
    {
     "data": {
      "text/plain": [
       "- (generic function with 183 methods)"
      ]
     },
     "execution_count": 8,
     "metadata": {},
     "output_type": "execute_result"
    }
   ],
   "source": [
    "import Base: +,-,*,/,zero,one,adjoint,convert,inv,size,iszero,transpose,length\n",
    "\n",
    "# Abstract type for operations\n",
    "abstract type Map; end\n",
    "\n",
    "#Right Multiplication Operation\n",
    "struct RM <: Map; A; end\n",
    "-(K::RM) = RM(-K.A)\n",
    "*(K::RM, X::Union{AbstractArray,Number}) =  X * K.A\n",
    "adjoint(K::RM) = RM(K.A')\n",
    "\n",
    "# Hadamard Operation\n",
    "struct (Δ)   <: Map; A; end\n",
    "-(X::Δ) = Δ(-X.A)\n",
    "*(X::Δ,Y::Union{AbstractArray,Number}) = X.A .* Y\n",
    "*(Y::Union{AbstractArray,Number},X::Δ) = Y .* X.A\n",
    "adjoint(X::Δ) = Δ(X.A)\n",
    "\n",
    "# Generic zero mapping\n",
    "struct Zero  <: Map; end # zero of the vector space\n",
    "iszero(X::Map) = isa(X,Zero)\n",
    "\n",
    "*(X::Zero,Y) = Zero()\n",
    "*(Y,X::Zero) = Zero()\n",
    "*(::Zero,::Zero) = Zero()\n",
    "\n",
    "+(X::Zero,Y) = Y\n",
    "+(Y,X::Zero) = X+Y\n",
    "+(::Zero,::Zero) = Zero()\n",
    "\n",
    "-(X::Zero)   = X\n",
    "-(X::Zero,Y) = -Y\n",
    "-(Y,X::Zero) = Y\n",
    "-(::Zero,::Zero) = Zero()\n",
    "adjoint(X::Zero) = X\n",
    "\n",
    "# Identity mapping\n",
    "struct One   <: Map; sign::Bool; end # identity map of the vector space\n",
    "\n",
    "*(Y,X::One) = X.sign ?  Y : -Y\n",
    "*(X::One,Y) = Y*X\n",
    "-(X::One) = One(!X.sign)\n",
    "One() = One(true)\n",
    "adjoint(X::One) = X\n",
    "\n",
    "# Composition of Mappings. It applies a chain of two operation.\n",
    "# Since ∘ symbol is already defined in Julia Base, I used ⦿\n",
    "struct (⦿) <: Map; A; B; end\n",
    "*(C::⦿, X::Union{AbstractArray,Number}) = C.A*(C.B*X)\n",
    "adjoint(K::⦿) = K.B' ⦿ K.A'\n",
    "-(K::⦿) = -K.A ⦿ K.B"
   ]
  },
  {
   "cell_type": "code",
   "execution_count": 9,
   "metadata": {},
   "outputs": [
    {
     "data": {
      "text/plain": [
       "array (generic function with 1 method)"
      ]
     },
     "execution_count": 9,
     "metadata": {},
     "output_type": "execute_result"
    }
   ],
   "source": [
    "# I needed to create a box type because \n",
    "# i) D and L is actually Matrix of Map. Matrix of an Abstract Type causes problems\n",
    "# ii) We needa a global Zero in backsolve\n",
    "struct Box; X; end\n",
    "\n",
    "value(R::Box) = R.X\n",
    "value(A::Array) = value.(A)\n",
    "zero(::Type{Box}) = Box(Zero())\n",
    "zero(::Box) = zero(Box)\n",
    "iszero(R::Box) = isa(value(R),Zero)\n",
    "one(::Type{Box})  = Box(One())\n",
    "one(::Box) = one(Box)\n",
    "adjoint(R::Box)   = Box(adjoint(value(R)))\n",
    "inv(R::Box) = Box(inv(value(R)))\n",
    "convert(::Type{Box},x) = Box(x)\n",
    "convert(::Type{Box},x::Box) = x\n",
    "\n",
    "*(R::Box, X) = Box(value(R) * X)\n",
    "*(X, R::Box) = Box(X * value(R))\n",
    "*(R1::Box, R2::Box) = Box(value(R1) * value(R2))\n",
    "\n",
    "-(R::Box)    = Box(-value(R))\n",
    "-(R::Box, X) = Box(value(R)-X)\n",
    "-(X,R::Box)  = Box(X-value(R))\n",
    "-(R1::Box,R2::Box) = Box(value(R1) - value(R2))\n",
    "\n",
    "+(R1::Box,R2::Box) = Box(value(R1) + value(R2))\n",
    "\n",
    "/(X,R::Box)  = Box(X*inv(R))\n",
    "\n",
    "array(x) = fill(x,1,1)"
   ]
  },
  {
   "cell_type": "code",
   "execution_count": 10,
   "metadata": {},
   "outputs": [
    {
     "data": {
      "text/plain": [
       "neural_net (generic function with 1 method)"
      ]
     },
     "execution_count": 10,
     "metadata": {},
     "output_type": "execute_result"
    }
   ],
   "source": [
    "function neural_net(params,input;h=h,h′= h′)\n",
    "    X     = [input]\n",
    "    δ     = []\n",
    "    for i=1:length(params)\n",
    "        x = params[i][1]*X[i] .+ params[i][2]         \n",
    "        push!(X,h.(x))\n",
    "        push!(δ,h′.(x,X[i+1]))\n",
    "    end \n",
    "    X,δ\n",
    "end\n"
   ]
  },
  {
   "cell_type": "code",
   "execution_count": 11,
   "metadata": {},
   "outputs": [
    {
     "data": {
      "text/plain": [
       "([-0.0217737 0.122212 … 0.00382922 0.00916764; 0.0343039 0.00938758 … -0.0459479 -0.122375; … ; 0.112194 -0.0227026 … 0.13616 -0.130963; -0.0852267 -0.0389311 … -0.0801138 -0.013431], [-0.119377 -0.200791 … 0.151157 0.0513181])"
      ]
     },
     "execution_count": 11,
     "metadata": {},
     "output_type": "execute_result"
    }
   ],
   "source": [
    "# params: `Wi` and `Bi`s\n",
    "params =[[init(n[i+1],n[i]),init(n[i+1])] for i=1:N]\n",
    "x, y = init(n[1],B), init(1,B)"
   ]
  },
  {
   "cell_type": "code",
   "execution_count": 12,
   "metadata": {},
   "outputs": [
    {
     "data": {
      "text/plain": [
       "3-element Array{Array{Any,2},1}:\n",
       " [Box([0.00101469 0.00594186 … 0.00310045 -0.00723866; -0.00121427 -0.00716893 … -0.00350869 0.00879899; 0.000325603 0.00297791 … 0.00130538 -0.00351086; 0.000386531 0.0022207 … 0.0010546 -0.00270529]); Box([0.0323801 0.0348919 … 0.0253965 0.0268607; -0.0395638 -0.0425254 … -0.0304471 -0.034312; 0.0154709 0.0166175 … 0.0117816 0.013146; 0.012057 0.0132513 … 0.00930622 0.0105188])]\n",
       " [Box([-0.770839 -0.809318 -0.755258 -0.845816; -0.507298 -0.532644 -0.49705 -0.556675; 0.99776 1.04751 0.97756 1.09478]); Box([-0.128534 -0.13656 … -0.0983171 -0.109804; -0.0842735 -0.090233 … -0.0644232 -0.0726468; 0.166101 0.177418 … 0.127445 0.141214])]                                                                                                                              \n",
       " [Box([-7.47286 -6.28883 -6.30022]); Box([-1.21219 -1.29607 … -0.928966 -1.03681])]                                                                                                                                                                                                                                                                                                            "
      ]
     },
     "execution_count": 12,
     "metadata": {},
     "output_type": "execute_result"
    }
   ],
   "source": [
    "X,δ = neural_net(params,x)\n",
    "D = Diagonal([[Δ(δ[i]) ⦿ RM(X[i]) Δ(δ[i])] for i=1:N])\n",
    "L = Bidiagonal(zeros(Box,N), [Box(Δ(δ[i]) ⦿ params[i][1]) for i=2:N] , :L)\n",
    "g = [[zero(Box) for i=1:N-1]; Box(𝓁′(X[N+1],y))]\n",
    "∇J = D'*array.((UnitUpperTriangular(-L')\\g))"
   ]
  },
  {
   "cell_type": "code",
   "execution_count": 13,
   "metadata": {},
   "outputs": [
    {
     "data": {
      "text/plain": [
       "3-element Array{Array{Array{Float64,N} where N,1},1}:\n",
       " [[0.00101469 0.00594186 … 0.00310045 -0.00723866; -0.00121427 -0.00716893 … -0.00350869 0.00879899; 0.000325603 0.00297791 … 0.00130538 -0.00351086; 0.000386531 0.0022207 … 0.0010546 -0.00270529], [0.207448, -0.254527, 0.100064, 0.0783629]]\n",
       " [[-0.770839 -0.809318 -0.755258 -0.845816; -0.507298 -0.532644 -0.49705 -0.556675; 0.99776 1.04751 0.97756 1.09478], [-0.826567, -0.543981, 1.06985]]                                                                                           \n",
       " [[-7.47286 -6.28883 -6.30022], [-7.81211]]                                                                                                                                                                                                      "
      ]
     },
     "execution_count": 13,
     "metadata": {},
     "output_type": "execute_result"
    }
   ],
   "source": [
    "# ∇Jfd is gradient calculated with finite differences method\n",
    "∇Jfd = params*0\n",
    "ϵ=params*0\n",
    "for i=1:length(params), wb=1:2\n",
    "    for j=1:length(ϵ[i][wb])\n",
    "        ϵ[i][wb][j] = 𝜀\n",
    "        ∇Jfd[i][wb][j] =(𝓁(neural_net(params+ϵ,x)[1][N+1],y)-𝓁(neural_net(params-ϵ,x)[1][N+1],y))/2𝜀\n",
    "        ϵ[i][wb][j] = .0\n",
    "     end\n",
    "end\n",
    "∇Jfd"
   ]
  },
  {
   "cell_type": "code",
   "execution_count": 14,
   "metadata": {},
   "outputs": [
    {
     "data": {
      "text/plain": [
       "4×5 Array{Float64,2}:\n",
       "  0.00101469    0.00594186  -0.00590623   0.00310045  -0.00723866\n",
       " -0.00121427   -0.00716893   0.00746274  -0.00350869   0.00879899\n",
       "  0.000325603   0.00297791  -0.00296868   0.00130538  -0.00351086\n",
       "  0.000386531   0.0022207   -0.00225397   0.0010546   -0.00270529"
      ]
     },
     "execution_count": 14,
     "metadata": {},
     "output_type": "execute_result"
    }
   ],
   "source": [
    "∇Jfd[1][1]"
   ]
  },
  {
   "cell_type": "code",
   "execution_count": 15,
   "metadata": {},
   "outputs": [
    {
     "data": {
      "text/plain": [
       "4×5 Array{Float64,2}:\n",
       "  0.00101469    0.00594186  -0.00590623   0.00310045  -0.00723866\n",
       " -0.00121427   -0.00716893   0.00746274  -0.00350869   0.00879899\n",
       "  0.000325603   0.00297791  -0.00296868   0.00130538  -0.00351086\n",
       "  0.000386531   0.0022207   -0.00225397   0.0010546   -0.00270529"
      ]
     },
     "execution_count": 15,
     "metadata": {},
     "output_type": "execute_result"
    }
   ],
   "source": [
    "value(∇J[1][1])"
   ]
  },
  {
   "cell_type": "markdown",
   "metadata": {},
   "source": [
    "### Densely Connected Matrix Network"
   ]
  },
  {
   "cell_type": "code",
   "execution_count": 16,
   "metadata": {},
   "outputs": [],
   "source": [
    "function neural_net(params,input;h=h, h′= h′)\n",
    "    X     = [input]\n",
    "    δ     = []\n",
    "    for i=1:length(params)\n",
    "       x = broadcast(+,(params[i] .* [X;One()])...)\n",
    "       push!(X,h.(x))\n",
    "       push!(δ,h′.(x,X[i+1]))\n",
    "    end \n",
    "    X,δ\n",
    "end\n",
    "array(x) = fill(x,1,1);"
   ]
  },
  {
   "cell_type": "code",
   "execution_count": 17,
   "metadata": {},
   "outputs": [],
   "source": [
    "params = [[j==i+1 ?  init(n[i+1],1) : init(n[i+1],n[j])  for j=1:i+1] for i=1:N]\n",
    "x,y = init(n[1],B), init(1,B);"
   ]
  },
  {
   "cell_type": "code",
   "execution_count": 18,
   "metadata": {},
   "outputs": [
    {
     "data": {
      "text/plain": [
       "3-element Array{Array{Any,2},1}:\n",
       " [Box([0.0115569 0.00549805 … -0.0161394 0.00147656; 0.00306045 0.0017063 … -0.00473592 0.00038049; -0.0276811 -0.0140677 … 0.0418369 -0.00394034; -0.0251779 -0.0112138 … 0.0351862 -0.00343662]); Box([-0.0430054 -0.0506701 … -0.0449932 -0.0509088; -0.0119413 -0.0141006 … -0.0125106 -0.015109; 0.110069 0.127833 … 0.113095 0.129818; 0.0971891 0.109575 … 0.100665 0.108758])]                                             \n",
       " [Box([-0.00919674 -0.00497564 … 0.0145846 -0.00143558; 0.00844697 0.0043144 … -0.0115445 0.00113046; 0.00422829 0.00194669 … -0.00651271 0.000514676]); Box([0.244772 0.329478 0.367253 0.26078; -0.197947 -0.266371 -0.296825 -0.210844; -0.112565 -0.151513 -0.168872 -0.119915]); Box([0.0380329 0.0431343 … 0.0384889 0.044549; -0.0297322 -0.0366535 … -0.0314979 -0.0367982; -0.0175076 -0.020336 … -0.0186085 -0.0207271])]\n",
       " [Box([0.181412 0.0937544 … -0.272871 0.0253847]); Box([-4.63588 -6.23969 -6.9542 -4.9386]); Box([-5.40713 -5.47197 -6.78082]); Box([-0.712435 -0.831327 … -0.740215 -0.853483])]                                                                                                                                                                                                                                                  "
      ]
     },
     "execution_count": 18,
     "metadata": {},
     "output_type": "execute_result"
    }
   ],
   "source": [
    "X,δ = neural_net(params,x)\n",
    "D = Diagonal([[[ (Δ(δ[i]) ⦿ RM(X[j]))' for j=1:i]' Δ(δ[i])] for i=1:N])\n",
    "L = LowerTriangular(zeros(Box,N,N)) \n",
    "for i=2:N, j=1:i-1\n",
    "    L[i,j] = Box(RM(Δ(δ[i])) ⦿ params[i][j+1]) \n",
    "end\n",
    "g  = [[zero(Box) for i=1:N-1]; Box(𝓁′(X[N+1],y))]\n",
    "∇J = D'*array.(UnitUpperTriangular(-L')\\g)"
   ]
  },
  {
   "cell_type": "code",
   "execution_count": 19,
   "metadata": {},
   "outputs": [],
   "source": [
    "# ∇Jfd is gradient calculated with finite differences method\n",
    "∇Jfd = params*0\n",
    "ϵ=params*0\n",
    "for i=1:length(ϵ), j=1:length(ϵ[i]), k=1:length(ϵ[i][j])\n",
    "        ϵ[i][j][k] = 𝜀\n",
    "        ∇Jfd[i][j][k] =(𝓁(neural_net(params+ϵ,x)[1][N+1],y)-𝓁(neural_net(params-ϵ,x)[1][N+1],y))/2𝜀\n",
    "        ϵ[i][j][k] = .0\n",
    "end"
   ]
  },
  {
   "cell_type": "code",
   "execution_count": 20,
   "metadata": {},
   "outputs": [
    {
     "data": {
      "text/plain": [
       "4×5 Array{Float64,2}:\n",
       "  0.0115569    0.00549805  -0.015176    -0.0161394    0.00147656\n",
       "  0.00306045   0.0017063   -0.00454535  -0.00473592   0.00038049\n",
       " -0.0276811   -0.0140677    0.0394598    0.0418369   -0.00394034\n",
       " -0.0251779   -0.0112138    0.0325317    0.0351862   -0.00343662"
      ]
     },
     "execution_count": 20,
     "metadata": {},
     "output_type": "execute_result"
    }
   ],
   "source": [
    "∇Jfd[1][1]"
   ]
  },
  {
   "cell_type": "code",
   "execution_count": 21,
   "metadata": {},
   "outputs": [
    {
     "data": {
      "text/plain": [
       "4×5 Array{Float64,2}:\n",
       "  0.0115569    0.00549805  -0.015176    -0.0161394    0.00147656\n",
       "  0.00306045   0.0017063   -0.00454535  -0.00473592   0.00038049\n",
       " -0.0276811   -0.0140677    0.0394598    0.0418369   -0.00394034\n",
       " -0.0251779   -0.0112138    0.0325317    0.0351862   -0.00343662"
      ]
     },
     "execution_count": 21,
     "metadata": {},
     "output_type": "execute_result"
    }
   ],
   "source": [
    "value(∇J[1][1])"
   ]
  },
  {
   "cell_type": "code",
   "execution_count": null,
   "metadata": {},
   "outputs": [],
   "source": []
  }
 ],
 "metadata": {
  "kernelspec": {
   "display_name": "Julia 1.0.1",
   "language": "julia",
   "name": "julia-1.0"
  },
  "language_info": {
   "file_extension": ".jl",
   "mimetype": "application/julia",
   "name": "julia",
   "version": "1.0.1"
  }
 },
 "nbformat": 4,
 "nbformat_minor": 2
}
