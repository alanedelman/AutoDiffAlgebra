{
 "cells": [
  {
   "cell_type": "code",
   "execution_count": 1,
   "metadata": {},
   "outputs": [],
   "source": [
    "using LinearAlgebra"
   ]
  },
  {
   "cell_type": "code",
   "execution_count": 2,
   "metadata": {},
   "outputs": [
    {
     "data": {
      "text/plain": [
       "init (generic function with 1 method)"
      ]
     },
     "execution_count": 2,
     "metadata": {},
     "output_type": "execute_result"
    }
   ],
   "source": [
    "h(x) = exp(-x)\n",
    "h′(x,y) = -y\n",
    "𝓁(x,y) = sum(abs2,x-y)/2\n",
    "𝓁′(x,y) = x-y\n",
    "init(sizes...) = 0.1randn(sizes...)"
   ]
  },
  {
   "cell_type": "code",
   "execution_count": 3,
   "metadata": {},
   "outputs": [
    {
     "data": {
      "text/plain": [
       "7"
      ]
     },
     "execution_count": 3,
     "metadata": {},
     "output_type": "execute_result"
    }
   ],
   "source": [
    "𝜀 = .0001\n",
    "n = [5,4,3,1]\n",
    "N = length(n)-1\n",
    "B = 7"
   ]
  },
  {
   "cell_type": "markdown",
   "metadata": {},
   "source": [
    "### Scalar Neural Network"
   ]
  },
  {
   "cell_type": "code",
   "execution_count": 4,
   "metadata": {},
   "outputs": [
    {
     "data": {
      "text/plain": [
       "neural_net (generic function with 1 method)"
      ]
     },
     "execution_count": 4,
     "metadata": {},
     "output_type": "execute_result"
    }
   ],
   "source": [
    "function neural_net(params, input; h=h, h′=h′, N=length(params))\n",
    "    δ = [];\n",
    "    X = [input];\n",
    "    for i=1:N\n",
    "        x = sum(params[i] .* [X[i],1])\n",
    "        push!(X,h(x))\n",
    "        push!(δ, h′.(x,X[i+1]))\n",
    "    end\n",
    "    return X,δ\n",
    "end\n"
   ]
  },
  {
   "cell_type": "code",
   "execution_count": 5,
   "metadata": {},
   "outputs": [
    {
     "data": {
      "text/plain": [
       "(-0.23130081044702488, -0.030923296815536468)"
      ]
     },
     "execution_count": 5,
     "metadata": {},
     "output_type": "execute_result"
    }
   ],
   "source": [
    "params =[[init(),init()] for i=1:N] # W and B\n",
    "x,y = init(),init() # input and output"
   ]
  },
  {
   "cell_type": "code",
   "execution_count": 6,
   "metadata": {},
   "outputs": [],
   "source": [
    "X,δ = neural_net(params,x)\n",
    "L   = Bidiagonal(zeros(N),[δ[i] * params[i][1] for i=2:N],:L)\n",
    "D   = Diagonal(δ.*[[X[i],1]' for i=1:N])\n",
    "f   = [zeros(N-1);𝓁′(X[N+1],y)]\n",
    "∇J  = D'*((I-L')\\f);"
   ]
  },
  {
   "cell_type": "code",
   "execution_count": 7,
   "metadata": {},
   "outputs": [
    {
     "data": {
      "text/plain": [
       "3-element Array{Array{Float64,1},1}:\n",
       " [1.78643e-5, -7.72338e-5]\n",
       " [0.0109472, 0.0100777]   \n",
       " [-1.1834, -1.07989]      "
      ]
     },
     "execution_count": 7,
     "metadata": {},
     "output_type": "execute_result"
    }
   ],
   "source": [
    "∇Jfd = ∇J * 0\n",
    "ϵ    = ∇J * 0\n",
    "for i=1:N, j=1:2       \n",
    "    ϵ[i][j] = 𝜀\n",
    "    ∇Jfd[i][j]=(𝓁(neural_net(params.+ϵ,x)[1][N+1],y)-𝓁(neural_net(params.-ϵ,x)[1][N+1],y))/2𝜀\n",
    "    ϵ[i][j] = .0\n",
    "end\n",
    "∇Jfd"
   ]
  },
  {
   "cell_type": "markdown",
   "metadata": {},
   "source": [
    "### Simple Matrix Neural Network\n",
    "- [] needed to create a box type because operations on matrices of abstract types causes problems"
   ]
  },
  {
   "cell_type": "code",
   "execution_count": 8,
   "metadata": {},
   "outputs": [
    {
     "data": {
      "text/plain": [
       "iszero (generic function with 12 methods)"
      ]
     },
     "execution_count": 8,
     "metadata": {},
     "output_type": "execute_result"
    }
   ],
   "source": [
    "import Base: +,-,*,/,zero,one,adjoint,convert,inv,size,iszero,transpose,length\n",
    "\n",
    "abstract type Map; end\n",
    "struct (⊗)   <: Map; A; B; end\n",
    "struct (⊗′)  <: Map; A; B; end\n",
    "struct (Δ)   <: Map; A; end\n",
    "struct Zero  <: Map; end # zero of the vector space\n",
    "struct One   <: Map; sign::Bool; end # identity map of the vector space\n",
    "\n",
    "-(K::⊗′) = -K.A ⊗′ K.B \n",
    "*(K::⊗′,X::Union{AbstractArray,Number}) = (K.A * X) * K.B' \n",
    "adjoint(K::⊗′) = K.B' ⊗ K.A'\n",
    "\n",
    "-(K::⊗) = -K.A ⊗ K.B\n",
    "*(K::⊗,X::Union{AbstractArray,Number}) =  K.B * (X * K.A') \n",
    "adjoint(K::⊗) = K.B' ⊗′ K.A'\n",
    "\n",
    "-(X::Δ) = Δ(-X.A)\n",
    "*(X::Δ,Y::Union{AbstractArray,Number}) = X.A .* Y\n",
    "*(Y::Union{AbstractArray,Number},X::Δ) = Y .* X.A\n",
    "adjoint(X::Δ) = Δ(X.A)\n",
    "\n",
    "*(X::Zero,Y) = Zero()\n",
    "*(Y,X::Zero) = Zero()\n",
    "*(::Zero,::Zero) = Zero()\n",
    "\n",
    "+(X::Zero,Y) = Y\n",
    "+(Y,X::Zero) = X+Y\n",
    "+(::Zero,::Zero) = Zero()\n",
    "\n",
    "-(X::Zero)   = X\n",
    "-(X::Zero,Y) = -Y\n",
    "-(Y,X::Zero) = Y\n",
    "-(::Zero,::Zero) = Zero()\n",
    "adjoint(X::Zero) = X\n",
    "\n",
    "*(Y,X::One) = X.sign ?  Y : -Y\n",
    "*(X::One,Y) = Y*X\n",
    "-(X::One) = One(!X.sign)\n",
    "One() = One(true)\n",
    "adjoint(X::One) = X\n",
    "\n",
    "iszero(X::Map) = isa(X,Zero)"
   ]
  },
  {
   "cell_type": "code",
   "execution_count": 9,
   "metadata": {},
   "outputs": [
    {
     "data": {
      "text/plain": [
       "array (generic function with 1 method)"
      ]
     },
     "execution_count": 9,
     "metadata": {},
     "output_type": "execute_result"
    }
   ],
   "source": [
    "struct Box; X; end\n",
    "\n",
    "value(R::Box) = R.X\n",
    "value(A::Array) = value.(A)\n",
    "zero(::Type{Box}) = Box(Zero())\n",
    "zero(::Box) = zero(Box)\n",
    "iszero(R::Box) = isa(value(R),Zero)\n",
    "one(::Type{Box})  = Box(One())\n",
    "one(::Box) = one(Box)\n",
    "adjoint(R::Box)   = Box(adjoint(value(R)))\n",
    "inv(R::Box) = Box(inv(value(R)))\n",
    "convert(::Type{Box},x) = Box(x)\n",
    "convert(::Type{Box},x::Box) = x\n",
    "\n",
    "*(R::Box, X) = Box(value(R) * X)\n",
    "*(X, R::Box) = Box(X * value(R))\n",
    "*(R1::Box, R2::Box) = Box(value(R1) * value(R2))\n",
    "\n",
    "-(R::Box)    = Box(-value(R))\n",
    "-(R::Box, X) = Box(value(R)-X)\n",
    "-(X,R::Box)  = Box(X-value(R))\n",
    "-(R1::Box,R2::Box) = Box(value(R1) - value(R2))\n",
    "\n",
    "+(R1::Box,R2::Box) = Box(value(R1) + value(R2))\n",
    "\n",
    "/(X,R::Box)  = Box(X*inv(R))\n",
    "\n",
    "array(x) = fill(x,1,1)"
   ]
  },
  {
   "cell_type": "code",
   "execution_count": 10,
   "metadata": {},
   "outputs": [
    {
     "data": {
      "text/plain": [
       "neural_net (generic function with 1 method)"
      ]
     },
     "execution_count": 10,
     "metadata": {},
     "output_type": "execute_result"
    }
   ],
   "source": [
    "function neural_net(params,input;h=h,h′= h′)\n",
    "    X     = [input]\n",
    "    δ     = []\n",
    "    for i=1:length(params)\n",
    "        x = params[i][1]*X[i] .+ params[i][2]         \n",
    "        push!(X,h.(x))\n",
    "        push!(δ,h′.(x,X[i+1]))\n",
    "    end \n",
    "    X,δ\n",
    "end\n"
   ]
  },
  {
   "cell_type": "code",
   "execution_count": 11,
   "metadata": {},
   "outputs": [
    {
     "data": {
      "text/plain": [
       "([-0.0010061 0.0351535 … 0.0220259 0.111667; 0.121242 -0.0530323 … -0.00441481 -0.0337637; … ; 0.0984444 0.0966088 … -0.0340291 -0.0465568; 0.196182 0.0754752 … 0.150032 -0.0689269], [0.020698 -0.050361 … -0.00134641 0.0956486])"
      ]
     },
     "execution_count": 11,
     "metadata": {},
     "output_type": "execute_result"
    }
   ],
   "source": [
    "params =[[init(n[i+1],n[i]),init(n[i+1])] for i=1:N]\n",
    "x, y = init(n[1],B), init(1,B)"
   ]
  },
  {
   "cell_type": "code",
   "execution_count": 12,
   "metadata": {},
   "outputs": [
    {
     "data": {
      "text/plain": [
       "3-element Array{Array{Any,2},1}:\n",
       " [Box([0.00617418 0.0024111 … 0.00990453 0.00870872; 0.00030609 0.000121833 … 0.000488548 0.000434896; -0.00579272 -0.00208721 … -0.00910052 -0.00751858; 0.00430838 0.00157069 … 0.00676649 0.00570556]); Box([0.0193859 0.0202149 … 0.0192713 0.016717; 0.000956741 0.00101638 … 0.000986411 0.000829209; -0.0162937 -0.0189491 … -0.0169781 -0.0158765; 0.0125041 0.0139799 … 0.0128539 0.0118898])]\n",
       " [Box([0.802546 0.774573 0.763389 0.783755; 0.959815 0.926385 0.912982 0.937334; -0.8327 -0.803739 -0.792208 -0.813297]); Box([0.112519 0.122063 … 0.115313 0.102747; 0.134617 0.146077 … 0.138194 0.122607; -0.115949 -0.126959 … -0.119406 -0.106692])]                                                                                                                                              \n",
       " [Box([-6.83499 -6.08048 -6.58724]); Box([-0.732917 -0.79755 … -0.753592 -0.671046])]                                                                                                                                                                                                                                                                                                                  "
      ]
     },
     "execution_count": 12,
     "metadata": {},
     "output_type": "execute_result"
    }
   ],
   "source": [
    "X,δ = neural_net(params,x)\n",
    "D = Diagonal([[X[i]' ⊗  Δ(δ[i]) Δ(δ[i])] for i=1:N])\n",
    "L = Bidiagonal(zeros(Box,N), [Box(params[i][1] ⊗′ Δ(δ[i])) for i=2:N] , :L)\n",
    "f = [[zero(Box) for i=1:N-1]; Box(𝓁′(X[N+1],y))]\n",
    "∇J = D'*array.((UnitUpperTriangular(-L')\\f))"
   ]
  },
  {
   "cell_type": "code",
   "execution_count": 13,
   "metadata": {},
   "outputs": [
    {
     "data": {
      "text/plain": [
       "3-element Array{Array{Array{Float64,N} where N,1},1}:\n",
       " [[0.00617418 0.0024111 … 0.00990453 0.00870872; 0.00030609 0.000121833 … 0.000488548 0.000434896; -0.00579272 -0.00208721 … -0.00910052 -0.00751858; 0.00430838 0.00157069 … 0.00676649 0.00570556], [0.136318, 0.00679685, -0.125152, 0.0933989]]\n",
       " [[0.802546 0.774573 0.763389 0.783755; 0.959815 0.926385 0.912982 0.937334; -0.8327 -0.803739 -0.792208 -0.813297], [0.819982, 0.980682, -0.850867]]                                                                                              \n",
       " [[-6.83499 -6.08048 -6.58724], [-5.35458]]                                                                                                                                                                                                        "
      ]
     },
     "execution_count": 13,
     "metadata": {},
     "output_type": "execute_result"
    }
   ],
   "source": [
    "∇Jfd = params*0\n",
    "ϵ=params*0\n",
    "for i=1:length(params), wb=1:2\n",
    "    for j=1:length(ϵ[i][wb])\n",
    "        ϵ[i][wb][j] = 𝜀\n",
    "        ∇Jfd[i][wb][j] =(𝓁(neural_net(params+ϵ,x)[1][N+1],y)-𝓁(neural_net(params-ϵ,x)[1][N+1],y))/2𝜀\n",
    "        ϵ[i][wb][j] = .0\n",
    "     end\n",
    "end\n",
    "∇Jfd"
   ]
  },
  {
   "cell_type": "code",
   "execution_count": 14,
   "metadata": {},
   "outputs": [
    {
     "data": {
      "text/plain": [
       "4×5 Array{Float64,2}:\n",
       "  0.00617418   0.0024111     0.00167286   0.00990453    0.00870872 \n",
       "  0.00030609   0.000121833   9.11259e-5   0.000488548   0.000434896\n",
       " -0.00579272  -0.00208721   -0.00182361  -0.00910052   -0.00751858 \n",
       "  0.00430838   0.00157069    0.00127598   0.00676649    0.00570556 "
      ]
     },
     "execution_count": 14,
     "metadata": {},
     "output_type": "execute_result"
    }
   ],
   "source": [
    "∇Jfd[1][1]"
   ]
  },
  {
   "cell_type": "code",
   "execution_count": 15,
   "metadata": {},
   "outputs": [
    {
     "data": {
      "text/plain": [
       "4×5 Array{Float64,2}:\n",
       "  0.00617418   0.0024111     0.00167286   0.00990453    0.00870872 \n",
       "  0.00030609   0.000121833   9.11259e-5   0.000488548   0.000434896\n",
       " -0.00579272  -0.00208721   -0.00182361  -0.00910052   -0.00751858 \n",
       "  0.00430838   0.00157069    0.00127598   0.00676649    0.00570556 "
      ]
     },
     "execution_count": 15,
     "metadata": {},
     "output_type": "execute_result"
    }
   ],
   "source": [
    "value(∇J[1][1])"
   ]
  },
  {
   "cell_type": "markdown",
   "metadata": {},
   "source": [
    "### Densely Connected Matrix Network"
   ]
  },
  {
   "cell_type": "code",
   "execution_count": 16,
   "metadata": {},
   "outputs": [],
   "source": [
    "function neural_net(params,input;h=h, h′= h′)\n",
    "    X     = [input]\n",
    "    δ     = []\n",
    "    for i=1:length(params)\n",
    "       x = broadcast(+,(params[i] .* [X;One()])...)\n",
    "       push!(X,h.(x))\n",
    "       push!(δ,h′.(x,X[i+1]))\n",
    "    end \n",
    "    X,δ\n",
    "end\n",
    "array(x) = fill(x,1,1);"
   ]
  },
  {
   "cell_type": "code",
   "execution_count": 17,
   "metadata": {},
   "outputs": [],
   "source": [
    "params = [[j==i+1 ?  init(n[i+1],1) : init(n[i+1],n[j])  for j=1:i+1] for i=1:N]\n",
    "x,y = init(n[1],B), init(1,B);"
   ]
  },
  {
   "cell_type": "code",
   "execution_count": 18,
   "metadata": {},
   "outputs": [
    {
     "data": {
      "text/plain": [
       "3-element Array{Array{Any,2},1}:\n",
       " [Box([0.00147263 0.000878007 … 0.00317761 0.00134016; 0.0107609 0.00476976 … 0.0233219 0.0101893; 0.00530489 0.00308752 … 0.0116158 0.00459378; 0.00837458 0.00152393 … 0.0169338 0.0075329]); Box([0.00844684 0.00778185 … 0.00799274 0.00695372; 0.0581577 0.0566132 … 0.0620599 0.0480891; 0.0298291 0.0277436 … 0.0297046 0.0259149; 0.0420299 0.0424021 … 0.0498694 0.0369281])]                                                           \n",
       " [Box([0.00522154 0.0029278 … 0.0113374 0.00447353; -0.00380147 -0.00147879 … -0.00823059 -0.00357568; -0.00140382 -0.000515823 … -0.00292652 -0.00123515]); Box([0.183875 0.176399 0.198902 0.199122; -0.129887 -0.124764 -0.140498 -0.140885; -0.0478206 -0.0459046 -0.0517189 -0.0519111]); Box([0.0306026 0.0278889 … 0.0287812 0.025857; -0.0209272 -0.0204659 … -0.0220021 -0.0170939; -0.00758397 -0.00721398 … -0.00806272 -0.00653656])]\n",
       " [Box([-0.0516927 -0.0225824 … -0.110282 -0.0485074]); Box([-1.77215 -1.70112 -1.91629 -1.92118]); Box([-2.28555 -1.42774 -1.73805]); Box([-0.289434 -0.27441 … -0.291667 -0.233595])]                                                                                                                                                                                                                                                           "
      ]
     },
     "execution_count": 18,
     "metadata": {},
     "output_type": "execute_result"
    }
   ],
   "source": [
    "X,δ = neural_net(params,x)\n",
    "D = Diagonal([[[(X[j]' ⊗  Δ(δ[i]))' for j=1:i]' Δ(δ[i])] for i=1:N])\n",
    "L = LowerTriangular(zeros(Box,N,N)) \n",
    "for i=2:N, j=1:i-1\n",
    "    L[i,j] = Box(params[i][j+1] ⊗′ Δ(δ[i]))\n",
    "end\n",
    "g  = [[zero(Box) for i=1:N-1]; Box(𝓁′(X[N+1],y))]\n",
    "∇J = D'*array.(UnitUpperTriangular(-L')\\g)"
   ]
  },
  {
   "cell_type": "code",
   "execution_count": 19,
   "metadata": {},
   "outputs": [],
   "source": [
    "∇Jfd = params*0\n",
    "ϵ=params*0\n",
    "for i=1:length(ϵ), j=1:length(ϵ[i]), k=1:length(ϵ[i][j])\n",
    "        ϵ[i][j][k] = 𝜀\n",
    "        ∇Jfd[i][j][k] =(𝓁(neural_net(params+ϵ,x)[1][N+1],y)-𝓁(neural_net(params-ϵ,x)[1][N+1],y))/2𝜀\n",
    "        ϵ[i][j][k] = .0\n",
    "end"
   ]
  },
  {
   "cell_type": "code",
   "execution_count": 20,
   "metadata": {},
   "outputs": [
    {
     "data": {
      "text/plain": [
       "4×5 Array{Float64,2}:\n",
       " 0.00147263  0.000878007  -8.48615e-5   0.00317761  0.00134016\n",
       " 0.0107609   0.00476976   -0.000160236  0.0233219   0.0101893 \n",
       " 0.00530489  0.00308752    3.19438e-5   0.0116158   0.00459378\n",
       " 0.00837458  0.00152393    0.000896062  0.0169338   0.0075329 "
      ]
     },
     "execution_count": 20,
     "metadata": {},
     "output_type": "execute_result"
    }
   ],
   "source": [
    "∇Jfd[1][1]"
   ]
  },
  {
   "cell_type": "code",
   "execution_count": 21,
   "metadata": {},
   "outputs": [
    {
     "data": {
      "text/plain": [
       "4×5 Array{Float64,2}:\n",
       " 0.00147263  0.000878007  -8.48615e-5   0.00317761  0.00134016\n",
       " 0.0107609   0.00476976   -0.000160236  0.0233219   0.0101893 \n",
       " 0.00530489  0.00308752    3.19438e-5   0.0116158   0.00459378\n",
       " 0.00837458  0.00152393    0.000896062  0.0169338   0.0075329 "
      ]
     },
     "execution_count": 21,
     "metadata": {},
     "output_type": "execute_result"
    }
   ],
   "source": [
    "value(∇J[1][1])"
   ]
  }
 ],
 "metadata": {
  "kernelspec": {
   "display_name": "Julia 1.0.1",
   "language": "julia",
   "name": "julia-1.0"
  },
  "language_info": {
   "file_extension": ".jl",
   "mimetype": "application/julia",
   "name": "julia",
   "version": "1.0.1"
  }
 },
 "nbformat": 4,
 "nbformat_minor": 2
}
