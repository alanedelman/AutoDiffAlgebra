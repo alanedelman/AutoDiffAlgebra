{
 "cells": [
  {
   "cell_type": "code",
   "execution_count": 1,
   "metadata": {},
   "outputs": [],
   "source": [
    "using LinearAlgebra"
   ]
  },
  {
   "cell_type": "code",
   "execution_count": 2,
   "metadata": {},
   "outputs": [
    {
     "data": {
      "text/plain": [
       "init (generic function with 1 method)"
      ]
     },
     "execution_count": 2,
     "metadata": {},
     "output_type": "execute_result"
    }
   ],
   "source": [
    "h(x) = exp(-x)\n",
    "h′(x,y) = -y\n",
    "𝓁(x,y) = sum(abs2,x-y)/2\n",
    "𝓁′(x,y) = x-y\n",
    "init(sizes...) = 0.1randn(sizes...)"
   ]
  },
  {
   "cell_type": "code",
   "execution_count": 3,
   "metadata": {},
   "outputs": [
    {
     "data": {
      "text/plain": [
       "7"
      ]
     },
     "execution_count": 3,
     "metadata": {},
     "output_type": "execute_result"
    }
   ],
   "source": [
    "𝜀 = .0001\n",
    "n = [5,4,3,1]\n",
    "N = length(n)-1\n",
    "B = 7"
   ]
  },
  {
   "cell_type": "markdown",
   "metadata": {},
   "source": [
    "### Scalar Neural Network"
   ]
  },
  {
   "cell_type": "code",
   "execution_count": 4,
   "metadata": {},
   "outputs": [
    {
     "data": {
      "text/plain": [
       "neural_net (generic function with 1 method)"
      ]
     },
     "execution_count": 4,
     "metadata": {},
     "output_type": "execute_result"
    }
   ],
   "source": [
    "function neural_net(params, input; h=h, h′=h′, N=length(params))\n",
    "    δ = [];\n",
    "    X = [input];\n",
    "    for i=1:N\n",
    "        x = sum(params[i] .* [X[i],1])\n",
    "        push!(X,h(x))\n",
    "        push!(δ, h′.(x,X[i+1]))\n",
    "    end\n",
    "    return X,δ\n",
    "end\n"
   ]
  },
  {
   "cell_type": "code",
   "execution_count": 5,
   "metadata": {},
   "outputs": [
    {
     "data": {
      "text/plain": [
       "(0.021209288237944407, 0.045845020680530646)"
      ]
     },
     "execution_count": 5,
     "metadata": {},
     "output_type": "execute_result"
    }
   ],
   "source": [
    "params =[[init(),init()] for i=1:N] # W and B\n",
    "x,y = init(),init() # input and output"
   ]
  },
  {
   "cell_type": "code",
   "execution_count": 6,
   "metadata": {},
   "outputs": [],
   "source": [
    "X,δ = neural_net(params,x)\n",
    "L   = Bidiagonal(zeros(N),[δ[i] * params[i][1] for i=2:N],:L)\n",
    "D   = Diagonal(δ.*[[X[i],1]' for i=1:N])\n",
    "f   = [zeros(N-1);𝓁′(X[N+1],y)]\n",
    "∇J  = D'*((I-L')\\f);"
   ]
  },
  {
   "cell_type": "code",
   "execution_count": 7,
   "metadata": {},
   "outputs": [
    {
     "data": {
      "text/plain": [
       "3-element Array{Array{Float64,1},1}:\n",
       " [-0.000121919, -0.00574836]\n",
       " [0.04491, 0.0436309]       \n",
       " [-0.613332, -0.761998]     "
      ]
     },
     "execution_count": 7,
     "metadata": {},
     "output_type": "execute_result"
    }
   ],
   "source": [
    "∇Jfd = ∇J * 0\n",
    "ϵ    = ∇J * 0\n",
    "for i=1:N, j=1:2       \n",
    "    ϵ[i][j] = 𝜀\n",
    "    ∇Jfd[i][j]=(𝓁(neural_net(params.+ϵ,x)[1][N+1],y)-𝓁(neural_net(params.-ϵ,x)[1][N+1],y))/2𝜀\n",
    "    ϵ[i][j] = .0\n",
    "end\n",
    "∇Jfd"
   ]
  },
  {
   "cell_type": "markdown",
   "metadata": {},
   "source": [
    "### Simple Matrix Neural Network\n",
    "- [] needed to create a box type because operations on matrices of abstract types causes problems"
   ]
  },
  {
   "cell_type": "code",
   "execution_count": 8,
   "metadata": {},
   "outputs": [
    {
     "data": {
      "text/plain": [
       "iszero (generic function with 12 methods)"
      ]
     },
     "execution_count": 8,
     "metadata": {},
     "output_type": "execute_result"
    }
   ],
   "source": [
    "import Base: +,-,*,/,zero,one,adjoint,convert,inv,size,iszero,transpose,length\n",
    "\n",
    "abstract type Map; end\n",
    "\n",
    "struct RM <: Map; A; end\n",
    "-(K::RM) = RM(-K.A)\n",
    "*(K::RM, X::Union{AbstractArray,Number}) =  X * K.A\n",
    "adjoint(K::RM) = RM(K.A')\n",
    "\n",
    "struct (⦿) <: Map; A; B; end\n",
    "*(C::⦿, X::Union{AbstractArray,Number}) = C.A*(C.B*X)\n",
    "adjoint(K::⦿) = K.B' ⦿ K.A'\n",
    "-(K::⦿) = -K.A ⦿ K.B\n",
    "\n",
    "struct (Δ)   <: Map; A; end\n",
    "struct Zero  <: Map; end # zero of the vector space\n",
    "struct One   <: Map; sign::Bool; end # identity map of the vector space\n",
    "\n",
    "-(X::Δ) = Δ(-X.A)\n",
    "*(X::Δ,Y::Union{AbstractArray,Number}) = X.A .* Y\n",
    "*(Y::Union{AbstractArray,Number},X::Δ) = Y .* X.A\n",
    "adjoint(X::Δ) = Δ(X.A)\n",
    "\n",
    "*(X::Zero,Y) = Zero()\n",
    "*(Y,X::Zero) = Zero()\n",
    "*(::Zero,::Zero) = Zero()\n",
    "\n",
    "+(X::Zero,Y) = Y\n",
    "+(Y,X::Zero) = X+Y\n",
    "+(::Zero,::Zero) = Zero()\n",
    "\n",
    "-(X::Zero)   = X\n",
    "-(X::Zero,Y) = -Y\n",
    "-(Y,X::Zero) = Y\n",
    "-(::Zero,::Zero) = Zero()\n",
    "adjoint(X::Zero) = X\n",
    "\n",
    "*(Y,X::One) = X.sign ?  Y : -Y\n",
    "*(X::One,Y) = Y*X\n",
    "-(X::One) = One(!X.sign)\n",
    "One() = One(true)\n",
    "adjoint(X::One) = X\n",
    "\n",
    "iszero(X::Map) = isa(X,Zero)"
   ]
  },
  {
   "cell_type": "code",
   "execution_count": 9,
   "metadata": {},
   "outputs": [
    {
     "data": {
      "text/plain": [
       "array (generic function with 1 method)"
      ]
     },
     "execution_count": 9,
     "metadata": {},
     "output_type": "execute_result"
    }
   ],
   "source": [
    "struct Box; X; end\n",
    "\n",
    "value(R::Box) = R.X\n",
    "value(A::Array) = value.(A)\n",
    "zero(::Type{Box}) = Box(Zero())\n",
    "zero(::Box) = zero(Box)\n",
    "iszero(R::Box) = isa(value(R),Zero)\n",
    "one(::Type{Box})  = Box(One())\n",
    "one(::Box) = one(Box)\n",
    "adjoint(R::Box)   = Box(adjoint(value(R)))\n",
    "inv(R::Box) = Box(inv(value(R)))\n",
    "convert(::Type{Box},x) = Box(x)\n",
    "convert(::Type{Box},x::Box) = x\n",
    "\n",
    "*(R::Box, X) = Box(value(R) * X)\n",
    "*(X, R::Box) = Box(X * value(R))\n",
    "*(R1::Box, R2::Box) = Box(value(R1) * value(R2))\n",
    "\n",
    "-(R::Box)    = Box(-value(R))\n",
    "-(R::Box, X) = Box(value(R)-X)\n",
    "-(X,R::Box)  = Box(X-value(R))\n",
    "-(R1::Box,R2::Box) = Box(value(R1) - value(R2))\n",
    "\n",
    "+(R1::Box,R2::Box) = Box(value(R1) + value(R2))\n",
    "\n",
    "/(X,R::Box)  = Box(X*inv(R))\n",
    "\n",
    "array(x) = fill(x,1,1)"
   ]
  },
  {
   "cell_type": "code",
   "execution_count": 19,
   "metadata": {},
   "outputs": [
    {
     "data": {
      "text/plain": [
       "neural_net (generic function with 1 method)"
      ]
     },
     "execution_count": 19,
     "metadata": {},
     "output_type": "execute_result"
    }
   ],
   "source": [
    "function neural_net(params,input;h=h,h′= h′)\n",
    "    X     = [input]\n",
    "    δ     = []\n",
    "    for i=1:length(params)\n",
    "        x = params[i][1]*X[i] .+ params[i][2]         \n",
    "        push!(X,h.(x))\n",
    "        push!(δ,h′.(x,X[i+1]))\n",
    "    end \n",
    "    X,δ\n",
    "end\n"
   ]
  },
  {
   "cell_type": "code",
   "execution_count": 20,
   "metadata": {},
   "outputs": [
    {
     "data": {
      "text/plain": [
       "([0.0672977 0.0504554 … -0.0161737 -0.230778; 0.000407993 0.0147234 … 0.00234037 -0.00571761; … ; -0.0744498 0.139966 … -0.0630036 0.191786; 0.136124 0.0865397 … 0.0344445 -0.0481269], [-0.0741631 0.09068 … -0.0214639 0.0668393])"
      ]
     },
     "execution_count": 20,
     "metadata": {},
     "output_type": "execute_result"
    }
   ],
   "source": [
    "params =[[init(n[i+1],n[i]),init(n[i+1])] for i=1:N]\n",
    "x, y = init(n[1],B), init(1,B)"
   ]
  },
  {
   "cell_type": "code",
   "execution_count": 21,
   "metadata": {},
   "outputs": [
    {
     "data": {
      "text/plain": [
       "3-element Array{Array{Any,2},1}:\n",
       " [Box([0.00618882 0.00361767 … -0.00908024 -0.00422349; 0.0132648 0.00733459 … -0.0193456 -0.00852639; 0.00908938 0.0051391 … -0.0127821 -0.00576116; 0.00313324 0.00182513 … -0.00457784 -0.00218063]); Box([-0.0189083 -0.0175019 … -0.0181811 -0.0174098; -0.038867 -0.0361953 … -0.0365819 -0.0371096; -0.0269447 -0.0229572 … -0.0263581 -0.0254893; -0.0098281 -0.00887297 … -0.00946017 -0.00884129])]\n",
       " [Box([-0.460535 -0.53776 -0.449085 -0.429307; -1.54289 -1.80172 -1.50454 -1.43826; -1.57203 -1.83583 -1.53297 -1.4654]); Box([-0.0680285 -0.0603105 … -0.0655664 -0.0614248; -0.227591 -0.202145 … -0.218949 -0.206563; -0.231238 -0.205986 … -0.22242 -0.211182])]                                                                                                                                         \n",
       " [Box([-14.7748 -13.7827 -15.2145]); Box([-1.95044 -1.7291 … -1.87804 -1.7641])]                                                                                                                                                                                                                                                                                                                             "
      ]
     },
     "execution_count": 21,
     "metadata": {},
     "output_type": "execute_result"
    }
   ],
   "source": [
    "X,δ = neural_net(params,x)\n",
    "D = Diagonal([[Δ(δ[i]) ⦿ RM(X[i]) Δ(δ[i])] for i=1:N])\n",
    "L = Bidiagonal(zeros(Box,N), [Box(RM(Δ(δ[i])) ⦿ params[i][1]) for i=2:N] , :L)\n",
    "f = [[zero(Box) for i=1:N-1]; Box(𝓁′(X[N+1],y))]\n",
    "∇J = D'*array.((UnitUpperTriangular(-L')\\f))"
   ]
  },
  {
   "cell_type": "code",
   "execution_count": 22,
   "metadata": {},
   "outputs": [
    {
     "data": {
      "text/plain": [
       "3-element Array{Array{Array{Float64,N} where N,1},1}:\n",
       " [[0.00618882 0.00361767 … -0.00908024 -0.00422349; 0.0132648 0.00733459 … -0.0193456 -0.00852639; 0.00908938 0.0051391 … -0.0127821 -0.00576116; 0.00313324 0.00182513 … -0.00457784 -0.00218063], [-0.124568, -0.258205, -0.176349, -0.063644]]\n",
       " [[-0.460535 -0.53776 -0.449085 -0.429307; -1.54289 -1.80172 -1.50454 -1.43826; -1.57203 -1.83583 -1.53297 -1.4654], [-0.441199, -1.47809, -1.50599]]                                                                                            \n",
       " [[-14.7748 -13.7827 -15.2145], [-12.6528]]                                                                                                                                                                                                      "
      ]
     },
     "execution_count": 22,
     "metadata": {},
     "output_type": "execute_result"
    }
   ],
   "source": [
    "∇Jfd = params*0\n",
    "ϵ=params*0\n",
    "for i=1:length(params), wb=1:2\n",
    "    for j=1:length(ϵ[i][wb])\n",
    "        ϵ[i][wb][j] = 𝜀\n",
    "        ∇Jfd[i][wb][j] =(𝓁(neural_net(params+ϵ,x)[1][N+1],y)-𝓁(neural_net(params-ϵ,x)[1][N+1],y))/2𝜀\n",
    "        ϵ[i][wb][j] = .0\n",
    "     end\n",
    "end\n",
    "∇Jfd"
   ]
  },
  {
   "cell_type": "code",
   "execution_count": 23,
   "metadata": {},
   "outputs": [
    {
     "data": {
      "text/plain": [
       "4×5 Array{Float64,2}:\n",
       " 0.00618882  0.00361767  0.0100704   -0.00908024  -0.00422349\n",
       " 0.0132648   0.00733459  0.0206598   -0.0193456   -0.00852639\n",
       " 0.00908938  0.0051391   0.0138016   -0.0127821   -0.00576116\n",
       " 0.00313324  0.00182513  0.00512099  -0.00457784  -0.00218063"
      ]
     },
     "execution_count": 23,
     "metadata": {},
     "output_type": "execute_result"
    }
   ],
   "source": [
    "∇Jfd[1][1]"
   ]
  },
  {
   "cell_type": "code",
   "execution_count": 24,
   "metadata": {},
   "outputs": [
    {
     "data": {
      "text/plain": [
       "4×5 Array{Float64,2}:\n",
       " 0.00618882  0.00361767  0.0100704   -0.00908024  -0.00422349\n",
       " 0.0132648   0.00733459  0.0206598   -0.0193456   -0.00852639\n",
       " 0.00908938  0.0051391   0.0138016   -0.0127821   -0.00576116\n",
       " 0.00313324  0.00182513  0.00512099  -0.00457784  -0.00218063"
      ]
     },
     "execution_count": 24,
     "metadata": {},
     "output_type": "execute_result"
    }
   ],
   "source": [
    "value(∇J[1][1])"
   ]
  },
  {
   "cell_type": "markdown",
   "metadata": {},
   "source": [
    "### Densely Connected Matrix Network"
   ]
  },
  {
   "cell_type": "code",
   "execution_count": 13,
   "metadata": {},
   "outputs": [],
   "source": [
    "function neural_net(params,input;h=h, h′= h′)\n",
    "    X     = [input]\n",
    "    δ     = []\n",
    "    for i=1:length(params)\n",
    "       x = broadcast(+,(params[i] .* [X;One()])...)\n",
    "       push!(X,h.(x))\n",
    "       push!(δ,h′.(x,X[i+1]))\n",
    "    end \n",
    "    X,δ\n",
    "end\n",
    "array(x) = fill(x,1,1);"
   ]
  },
  {
   "cell_type": "code",
   "execution_count": 14,
   "metadata": {},
   "outputs": [],
   "source": [
    "params = [[j==i+1 ?  init(n[i+1],1) : init(n[i+1],n[j])  for j=1:i+1] for i=1:N]\n",
    "x,y = init(n[1],B), init(1,B);"
   ]
  },
  {
   "cell_type": "code",
   "execution_count": 15,
   "metadata": {},
   "outputs": [
    {
     "data": {
      "text/plain": [
       "3-element Array{Array{Any,2},1}:\n",
       " [Box([-0.0128427 0.0198229 … -0.0126271 -0.0135073; 0.00629759 -0.0103409 … 0.00734165 0.00739555; 0.0401913 -0.0629629 … 0.0387595 0.0470523; -0.00133792 0.00133275 … -0.0033493 -0.000352624]); Box([-0.0603623 -0.0652655 … -0.0667794 -0.0447372; 0.0317128 0.0317886 … 0.0336059 0.0251691; 0.195772 0.199804 … 0.219218 0.148352; -0.00380126 -0.00445663 … -0.0034967 -0.00346621])]            \n",
       " [Box([-0.0312327 0.0490034 … -0.0300554 -0.0364347; 0.0291568 -0.0426152 … 0.0279949 0.0326496; -0.0853052 0.126531 … -0.0956695 -0.0879409]); Box([-1.26516 -0.912982 -1.16291 -0.880338; 1.11376 0.804179 1.02422 0.775654; -3.31195 -2.39183 -3.04496 -2.30811]); Box([-0.151701 -0.157199 … -0.171871 -0.115664; 0.134598 0.134879 … 0.152597 0.0989407; -0.389885 -0.40483 … -0.425935 -0.293539])]\n",
       " [Box([-0.245953 0.385063 … -0.239604 -0.27517]); Box([-9.79772 -7.07042 -9.00471 -6.81814]); Box([-9.73722 -7.45647 -8.84728]); Box([-1.18703 -1.23127 … -1.30091 -0.88588])]                                                                                                                                                                                                                           "
      ]
     },
     "execution_count": 15,
     "metadata": {},
     "output_type": "execute_result"
    }
   ],
   "source": [
    "X,δ = neural_net(params,x)\n",
    "D = Diagonal([[[ (Δ(δ[i]) ⦿ RM(X[j]))' for j=1:i]' Δ(δ[i])] for i=1:N])\n",
    "L = LowerTriangular(zeros(Box,N,N)) \n",
    "for i=2:N, j=1:i-1\n",
    "    L[i,j] = Box(RM(Δ(δ[i])) ⦿ params[i][j+1]) \n",
    "end\n",
    "g  = [[zero(Box) for i=1:N-1]; Box(𝓁′(X[N+1],y))]\n",
    "∇J = D'*array.(UnitUpperTriangular(-L')\\g)"
   ]
  },
  {
   "cell_type": "code",
   "execution_count": 16,
   "metadata": {},
   "outputs": [],
   "source": [
    "∇Jfd = params*0\n",
    "ϵ=params*0\n",
    "for i=1:length(ϵ), j=1:length(ϵ[i]), k=1:length(ϵ[i][j])\n",
    "        ϵ[i][j][k] = 𝜀\n",
    "        ∇Jfd[i][j][k] =(𝓁(neural_net(params+ϵ,x)[1][N+1],y)-𝓁(neural_net(params-ϵ,x)[1][N+1],y))/2𝜀\n",
    "        ϵ[i][j][k] = .0\n",
    "end"
   ]
  },
  {
   "cell_type": "code",
   "execution_count": 17,
   "metadata": {},
   "outputs": [
    {
     "data": {
      "text/plain": [
       "4×5 Array{Float64,2}:\n",
       " -0.0128427    0.0198229    0.011221    -0.0126271   -0.0135073  \n",
       "  0.00629759  -0.0103409   -0.0050128    0.00734165   0.00739555 \n",
       "  0.0401913   -0.0629629   -0.034096     0.0387595    0.0470523  \n",
       " -0.00133792   0.00133275   7.00921e-5  -0.0033493   -0.000352624"
      ]
     },
     "execution_count": 17,
     "metadata": {},
     "output_type": "execute_result"
    }
   ],
   "source": [
    "∇Jfd[1][1]"
   ]
  },
  {
   "cell_type": "code",
   "execution_count": null,
   "metadata": {},
   "outputs": [],
   "source": [
    "value(∇J[1][1])"
   ]
  },
  {
   "cell_type": "code",
   "execution_count": null,
   "metadata": {},
   "outputs": [],
   "source": []
  }
 ],
 "metadata": {
  "kernelspec": {
   "display_name": "Julia 1.0.1",
   "language": "julia",
   "name": "julia-1.0"
  },
  "language_info": {
   "file_extension": ".jl",
   "mimetype": "application/julia",
   "name": "julia",
   "version": "1.0.1"
  }
 },
 "nbformat": 4,
 "nbformat_minor": 2
}
