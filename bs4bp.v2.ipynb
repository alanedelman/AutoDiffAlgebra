{
 "cells": [
  {
   "cell_type": "code",
   "execution_count": 1,
   "metadata": {},
   "outputs": [],
   "source": [
    "using LinearAlgebra"
   ]
  },
  {
   "cell_type": "code",
   "execution_count": 2,
   "metadata": {},
   "outputs": [
    {
     "data": {
      "text/plain": [
       "\\ (generic function with 152 methods)"
      ]
     },
     "execution_count": 2,
     "metadata": {},
     "output_type": "execute_result"
    }
   ],
   "source": [
    "# Fixes needed in Julia\n",
    "import Base: \\\n",
    "\n",
    "function LinearAlgebra.Bidiagonal(dv::Vector{T}, ev::Vector{S}, uplo::Symbol) where {T,S}\n",
    "    TS = promote_type(T,S)\n",
    "    return Bidiagonal{TS,Vector{TS}}(dv, ev, uplo)\n",
    "end\n",
    "\n",
    "## The base method narrows the type too much. We'll have to ensure that it's as least as wide as the input\n",
    "function \\(adjA::Adjoint{<:Any,<:Union{UnitUpperTriangular,UnitLowerTriangular}}, B::AbstractVector)\n",
    "    A = adjA.parent\n",
    "    TAB = promote_type(eltype(A), eltype(B), typeof(zero(eltype(A))*zero(eltype(B)) + zero(eltype(A))*zero(eltype(B))))\n",
    "    BB = similar(B, TAB, size(B))\n",
    "    copyto!(BB, B)\n",
    "    ldiv!(adjoint(convert(AbstractArray{TAB}, A)), BB)\n",
    "end"
   ]
  },
  {
   "cell_type": "code",
   "execution_count": 3,
   "metadata": {},
   "outputs": [
    {
     "data": {
      "text/plain": [
       "array (generic function with 1 method)"
      ]
     },
     "execution_count": 3,
     "metadata": {},
     "output_type": "execute_result"
    }
   ],
   "source": [
    "h(x) = exp(-x)\n",
    "h′(x,y) = -y\n",
    "𝓁(x,y) = sum(abs2,x-y)/2\n",
    "𝓁′(x,y) = x-y\n",
    "init(sizes...) = 0.1randn(sizes...)\n",
    "array(A) = fill.(A, 1, 1)"
   ]
  },
  {
   "cell_type": "code",
   "execution_count": 4,
   "metadata": {},
   "outputs": [
    {
     "data": {
      "text/plain": [
       "7"
      ]
     },
     "execution_count": 4,
     "metadata": {},
     "output_type": "execute_result"
    }
   ],
   "source": [
    "𝜀 = .0001\n",
    "n = [5,4,3,1]\n",
    "N = length(n)-1\n",
    "B = 7"
   ]
  },
  {
   "cell_type": "markdown",
   "metadata": {},
   "source": [
    "### Scalar Neural Network"
   ]
  },
  {
   "cell_type": "code",
   "execution_count": 5,
   "metadata": {},
   "outputs": [
    {
     "data": {
      "text/plain": [
       "neural_net (generic function with 1 method)"
      ]
     },
     "execution_count": 5,
     "metadata": {},
     "output_type": "execute_result"
    }
   ],
   "source": [
    "function neural_net(params, input; h=h, h′=h′, N=length(params))\n",
    "    δ = []\n",
    "    X = [input]\n",
    "    for i in 1:N\n",
    "        x = sum(params[i] .* [X[i],1])\n",
    "        push!(X,h(x))\n",
    "        push!(δ, h′.(x,X[i+1]))\n",
    "    end\n",
    "    return X,δ\n",
    "end\n"
   ]
  },
  {
   "cell_type": "code",
   "execution_count": 6,
   "metadata": {},
   "outputs": [
    {
     "data": {
      "text/plain": [
       "(-0.06001308766139209, -0.04019876163516568)"
      ]
     },
     "execution_count": 6,
     "metadata": {},
     "output_type": "execute_result"
    }
   ],
   "source": [
    "params =[[init(),init()] for i=1:N] # W and B\n",
    "x,y = init(),init() # input and output"
   ]
  },
  {
   "cell_type": "code",
   "execution_count": 7,
   "metadata": {},
   "outputs": [
    {
     "data": {
      "text/plain": [
       "3-element Array{Array{Float64,1},1}:\n",
       " [-1.33566e-5, 0.000222562]\n",
       " [0.0222118, 0.0187229]    \n",
       " [-0.807126, -0.802968]    "
      ]
     },
     "execution_count": 7,
     "metadata": {},
     "output_type": "execute_result"
    }
   ],
   "source": [
    "X,δ = neural_net(params,x)\n",
    "L   = Bidiagonal(zeros(N),[δ[i] * params[i][1] for i=2:N],:L)\n",
    "D   = Diagonal(δ.*[[X[i],1]' for i=1:N])\n",
    "g   = [zeros(N-1);𝓁′(X[N+1],y)]\n",
    "∇J  = D'*((I-L')\\g)"
   ]
  },
  {
   "cell_type": "code",
   "execution_count": 8,
   "metadata": {},
   "outputs": [
    {
     "data": {
      "text/plain": [
       "3-element Array{Array{Float64,1},1}:\n",
       " [-1.33566e-5, 0.000222562]\n",
       " [0.0222118, 0.0187229]    \n",
       " [-0.807126, -0.802968]    "
      ]
     },
     "execution_count": 8,
     "metadata": {},
     "output_type": "execute_result"
    }
   ],
   "source": [
    "# ∇Jfd is gradient calculated with finite differences method\n",
    "∇Jfd = ∇J * 0\n",
    "ϵ    = ∇J * 0\n",
    "for i in 1:N, j in 1:2       \n",
    "    ϵ[i][j] = 𝜀\n",
    "    ∇Jfd[i][j]=(𝓁(neural_net(params.+ϵ,x)[1][N+1],y)-𝓁(neural_net(params.-ϵ,x)[1][N+1],y))/2𝜀\n",
    "    ϵ[i][j] = .0\n",
    "end\n",
    "∇Jfd"
   ]
  },
  {
   "cell_type": "code",
   "execution_count": 9,
   "metadata": {},
   "outputs": [],
   "source": [
    "using LinearAlgebra\n",
    "import Base: +,-,*,/,∘\n",
    "\n",
    "abstract type Map{T} end\n",
    "\n",
    "struct RightMul{T} <: Map{T}\n",
    "    A::T\n",
    "end\n",
    "Base.copy(K::RightMul) = RightMul(copy(K.A))\n",
    "-(K::RightMul) = RightMul(-K.A)\n",
    "*(K::RightMul, X::Union{AbstractArray,Number}) =  X * K.A\n",
    "Base.adjoint(K::RightMul) = RightMul(K.A')\n",
    "\n",
    "\n",
    "struct HadMul{T} <: Map{T}\n",
    "    A::T\n",
    "end\n",
    "Base.copy(K::HadMul) = HadMul(copy(K.A))\n",
    "-(X::HadMul) = HadMul(-X.A)\n",
    "*(X::HadMul, Y::Union{AbstractArray,Number}) = X.A .* Y\n",
    "*(Y::Union{AbstractArray,Number}, X::HadMul) = Y .* X.A\n",
    "Base.adjoint(X::HadMul) = HadMul(X.A)\n",
    "\n",
    "# A zero\n",
    "struct Zero end\n",
    "Base.zero(::Type{Any}) = Zero()\n",
    "+(::Zero, ::Zero) = Zero()\n",
    "-(::Zero, A) = -A\n",
    "*(::Zero, ::Zero) = Zero()\n",
    "\n",
    "# Composition of Mappings. It applies a chain of two operation.\n",
    "struct Composition{TA,TB} <: Map{Union{TA,TB}}\n",
    "    A::TA\n",
    "    B::TB\n",
    "end\n",
    "∘(A::Map, B) = Composition(A, B)\n",
    "∘(A, B::Map) = Composition(A, B)\n",
    "∘(A::Map, B::Map) = Composition(A, B)\n",
    "*(C::Composition, X::Union{AbstractArray,Number}) = C.A*(C.B*X)\n",
    "Base.adjoint(K::Composition) = K.B' ∘ K.A'\n",
    "-(K::Composition) = Composition(-K.A, K.B)\n",
    "Base.copy(K::Composition) = Composition(copy(K.A), copy(K.B))"
   ]
  },
  {
   "cell_type": "markdown",
   "metadata": {},
   "source": [
    "### Simple Matrix Neural Network"
   ]
  },
  {
   "cell_type": "code",
   "execution_count": 10,
   "metadata": {},
   "outputs": [
    {
     "data": {
      "text/plain": [
       "neural_net (generic function with 1 method)"
      ]
     },
     "execution_count": 10,
     "metadata": {},
     "output_type": "execute_result"
    }
   ],
   "source": [
    "function neural_net(params,input;h=h,h′= h′)\n",
    "    X     = [input]\n",
    "    δ     = []\n",
    "    for i=1:length(params)\n",
    "        x = params[i][1]*X[i] .+ params[i][2]         \n",
    "        push!(X,h.(x))\n",
    "        push!(δ,h′.(x,X[i+1]))\n",
    "    end \n",
    "    X,δ\n",
    "end\n"
   ]
  },
  {
   "cell_type": "code",
   "execution_count": 11,
   "metadata": {},
   "outputs": [
    {
     "data": {
      "text/plain": [
       "([-0.0313474 0.143545 … -0.0634659 0.0838473; 0.0202179 0.0994812 … 0.120648 0.0772788; … ; 0.0502375 -0.0156043 … -0.0237093 0.0382377; -0.0409106 -0.0359764 … -0.0715288 0.0407063], [-0.021889 -0.0226897 … -0.0504058 -0.0171547])"
      ]
     },
     "execution_count": 11,
     "metadata": {},
     "output_type": "execute_result"
    }
   ],
   "source": [
    "# params: `Wi` and `Bi`s\n",
    "params =[[init(n[i+1],n[i]),init(n[i+1])] for i in 1:N]\n",
    "x, y = init(n[1],B), init(1,B)"
   ]
  },
  {
   "cell_type": "code",
   "execution_count": 23,
   "metadata": {},
   "outputs": [
    {
     "data": {
      "text/plain": [
       "3-element Array{Any,1}:\n",
       " Zero()                              \n",
       " Zero()                              \n",
       " [0.946642 0.940773 … 1.22217 1.0527]"
      ]
     },
     "execution_count": 23,
     "metadata": {},
     "output_type": "execute_result"
    }
   ],
   "source": [
    "X,δ = neural_net(params,x)\n",
    "D   = Diagonal([[HadMul(δ[i]) ∘ RightMul(X[i]) HadMul(δ[i])] for i in 1:N])\n",
    "ImL = Bidiagonal([I for i in 1:N], -[HadMul(δ[i]) ∘ params[i][1] for i in 2:N] , :L)\n",
    "g   = [Zero(), Zero(), 𝓁′(X[N+1],y)]\n",
    "∇J  = D'*fill.(ImL'\\g, 1, 1)"
   ]
  },
  {
   "cell_type": "code",
   "execution_count": 32,
   "metadata": {},
   "outputs": [
    {
     "ename": "ErrorException",
     "evalue": "Element type mismatch. Tried to create an `Adjoint{Union{##56#57{_1,_2} where _2 where _1, Composition{_1,_2} where _2 where _1, HadMul{_1} where _1, RightMul{_1} where _1}}` from an object with eltype `Map`, but the element type of the adjoint of an object with eltype `Map` must be `Union{##56#57{_1,_2} where _2 where _1, Composition{_1,_2} where _2 where _1, HadMul{_1} where _1, RightMul{_1} where _1}`.",
     "output_type": "error",
     "traceback": [
      "Element type mismatch. Tried to create an `Adjoint{Union{##56#57{_1,_2} where _2 where _1, Composition{_1,_2} where _2 where _1, HadMul{_1} where _1, RightMul{_1} where _1}}` from an object with eltype `Map`, but the element type of the adjoint of an object with eltype `Map` must be `Union{##56#57{_1,_2} where _2 where _1, Composition{_1,_2} where _2 where _1, HadMul{_1} where _1, RightMul{_1} where _1}`.",
      "",
      "Stacktrace:",
      " [1] error(::String) at ./error.jl:33",
      " [2] checkeltype_adjoint(::Type{Union{##56#57{_1,_2} where _2 where _1, Composition{_1,_2} where _2 where _1, HadMul{_1} where _1, RightMul{_1} where _1}}, ::Type{Map}) at /Users/osx/buildbot/slave/package_osx64/build/usr/share/julia/stdlib/v1.1/LinearAlgebra/src/adjtrans.jl:28",
      " [3] Adjoint{Union{##56#57{_1,_2} where _2 where _1, Composition{_1,_2} where _2 where _1, HadMul{_1} where _1, RightMul{_1} where _1},Array{Map,2}}(::Array{Map,2}) at /Users/osx/buildbot/slave/package_osx64/build/usr/share/julia/stdlib/v1.1/LinearAlgebra/src/adjtrans.jl:14",
      " [4] Adjoint(::Array{Map,2}) at /Users/osx/buildbot/slave/package_osx64/build/usr/share/julia/stdlib/v1.1/LinearAlgebra/src/adjtrans.jl:47",
      " [5] adjoint(::Array{Map,2}) at /Users/osx/buildbot/slave/package_osx64/build/usr/share/julia/stdlib/v1.1/LinearAlgebra/src/adjtrans.jl:76",
      " [6] _broadcast_getindex_evalf at ./broadcast.jl:578 [inlined]",
      " [7] _broadcast_getindex at ./broadcast.jl:551 [inlined]",
      " [8] getindex at ./broadcast.jl:511 [inlined]",
      " [9] copy at ./broadcast.jl:787 [inlined]",
      " [10] materialize at ./broadcast.jl:753 [inlined]",
      " [11] adjoint(::Diagonal{Array{Map,2},Array{Array{Map,2},1}}) at /Users/osx/buildbot/slave/package_osx64/build/usr/share/julia/stdlib/v1.1/LinearAlgebra/src/diagonal.jl:440",
      " [12] top-level scope at In[32]:1"
     ]
    }
   ],
   "source": [
    "D'"
   ]
  },
  {
   "cell_type": "code",
   "execution_count": 14,
   "metadata": {},
   "outputs": [
    {
     "data": {
      "text/plain": [
       "3-element Array{Array{Array{Float64,N} where N,1},1}:\n",
       " [[-0.00144853 -0.00326196 … 0.00214023 0.00110784; 0.00494567 0.0107853 … -0.00799231 -0.00438035; -0.002618 -0.00581151 … 0.0042953 0.00241103; 0.00345424 0.00745893 … -0.00545911 -0.00306579], [-0.0507631, 0.16802, -0.0906874, 0.116496]]\n",
       " [[0.403368 0.458488 0.407885 0.427451; 0.861356 0.979078 0.871023 0.912858; -0.483047 -0.548904 -0.488334 -0.511758], [0.453673, 0.968823, -0.543186]]                                                                                         \n",
       " [[-15.1995 -6.84618 -6.62077], [-7.87231]]                                                                                                                                                                                                     "
      ]
     },
     "execution_count": 14,
     "metadata": {},
     "output_type": "execute_result"
    }
   ],
   "source": [
    "# ∇Jfd is gradient calculated with finite differences method\n",
    "∇Jfd = params*0\n",
    "ϵ = params*0\n",
    "for i in 1:length(params), wb in 1:2\n",
    "    for j in 1:length(ϵ[i][wb])\n",
    "        ϵ[i][wb][j] = 𝜀\n",
    "        ∇Jfd[i][wb][j] =(𝓁(neural_net(params+ϵ,x)[1][N+1],y)-𝓁(neural_net(params-ϵ,x)[1][N+1],y))/2𝜀\n",
    "        ϵ[i][wb][j] = .0\n",
    "     end\n",
    "end\n",
    "∇Jfd"
   ]
  },
  {
   "cell_type": "code",
   "execution_count": 15,
   "metadata": {},
   "outputs": [
    {
     "data": {
      "text/plain": [
       "4×5 Array{Float64,2}:\n",
       " -0.00144853  -0.00326196   0.00127972   0.00214023   0.00110784\n",
       "  0.00494567   0.0107853   -0.00354377  -0.00799231  -0.00438035\n",
       " -0.002618    -0.00581151   0.00189133   0.0042953    0.00241103\n",
       "  0.00345424   0.00745893  -0.00244342  -0.00545911  -0.00306579"
      ]
     },
     "execution_count": 15,
     "metadata": {},
     "output_type": "execute_result"
    }
   ],
   "source": [
    "∇Jfd[1][1]"
   ]
  },
  {
   "cell_type": "code",
   "execution_count": 16,
   "metadata": {},
   "outputs": [
    {
     "data": {
      "text/plain": [
       "-1.33566043589133e-5"
      ]
     },
     "execution_count": 16,
     "metadata": {},
     "output_type": "execute_result"
    }
   ],
   "source": [
    "∇J[1][1]"
   ]
  },
  {
   "cell_type": "markdown",
   "metadata": {},
   "source": [
    "### Densely Connected Matrix Network"
   ]
  },
  {
   "cell_type": "code",
   "execution_count": 17,
   "metadata": {},
   "outputs": [],
   "source": [
    "function neural_net(params,input;h=h, h′= h′)\n",
    "    X     = [input]\n",
    "    δ     = []\n",
    "    for i in 1:length(params)\n",
    "       x = broadcast(+,(params[i] .* [X..., I])...)\n",
    "       push!(X,h.(x))\n",
    "       push!(δ,h′.(x,X[i+1]))\n",
    "    end \n",
    "    X,δ\n",
    "end;"
   ]
  },
  {
   "cell_type": "code",
   "execution_count": 18,
   "metadata": {},
   "outputs": [],
   "source": [
    "params = [[j==i+1 ?  init(n[i+1],1) : init(n[i+1],n[j])  for j in 1:i+1] for i in 1:N]\n",
    "x,y = init(n[1],B), init(1,B);"
   ]
  },
  {
   "cell_type": "code",
   "execution_count": 19,
   "metadata": {},
   "outputs": [
    {
     "ename": "ErrorException",
     "evalue": "Element type mismatch. Tried to create an `Adjoint{Union{##56#57{_1,_2} where _2 where _1, Composition{_1,_2} where _2 where _1, HadMul{_1} where _1, RightMul{_1} where _1}}` from an object with eltype `Map`, but the element type of the adjoint of an object with eltype `Map` must be `Union{##56#57{_1,_2} where _2 where _1, Composition{_1,_2} where _2 where _1, HadMul{_1} where _1, RightMul{_1} where _1}`.",
     "output_type": "error",
     "traceback": [
      "Element type mismatch. Tried to create an `Adjoint{Union{##56#57{_1,_2} where _2 where _1, Composition{_1,_2} where _2 where _1, HadMul{_1} where _1, RightMul{_1} where _1}}` from an object with eltype `Map`, but the element type of the adjoint of an object with eltype `Map` must be `Union{##56#57{_1,_2} where _2 where _1, Composition{_1,_2} where _2 where _1, HadMul{_1} where _1, RightMul{_1} where _1}`.",
      "",
      "Stacktrace:",
      " [1] error(::String) at ./error.jl:33",
      " [2] checkeltype_adjoint(::Type{Union{##56#57{_1,_2} where _2 where _1, Composition{_1,_2} where _2 where _1, HadMul{_1} where _1, RightMul{_1} where _1}}, ::Type{Map}) at /Users/osx/buildbot/slave/package_osx64/build/usr/share/julia/stdlib/v1.1/LinearAlgebra/src/adjtrans.jl:28",
      " [3] Adjoint{Union{##56#57{_1,_2} where _2 where _1, Composition{_1,_2} where _2 where _1, HadMul{_1} where _1, RightMul{_1} where _1},Array{Map,2}}(::Array{Map,2}) at /Users/osx/buildbot/slave/package_osx64/build/usr/share/julia/stdlib/v1.1/LinearAlgebra/src/adjtrans.jl:14",
      " [4] Adjoint(::Array{Map,2}) at /Users/osx/buildbot/slave/package_osx64/build/usr/share/julia/stdlib/v1.1/LinearAlgebra/src/adjtrans.jl:47",
      " [5] adjoint(::Array{Map,2}) at /Users/osx/buildbot/slave/package_osx64/build/usr/share/julia/stdlib/v1.1/LinearAlgebra/src/adjtrans.jl:76",
      " [6] _broadcast_getindex_evalf at ./broadcast.jl:578 [inlined]",
      " [7] _broadcast_getindex at ./broadcast.jl:551 [inlined]",
      " [8] getindex at ./broadcast.jl:511 [inlined]",
      " [9] copy at ./broadcast.jl:787 [inlined]",
      " [10] materialize at ./broadcast.jl:753 [inlined]",
      " [11] adjoint(::Diagonal{Array{Map,2},Array{Array{Map,2},1}}) at /Users/osx/buildbot/slave/package_osx64/build/usr/share/julia/stdlib/v1.1/LinearAlgebra/src/diagonal.jl:440",
      " [12] top-level scope at In[19]:8"
     ]
    }
   ],
   "source": [
    "X,δ = neural_net(params,x)\n",
    "D   = Diagonal([[[ (HadMul(δ[i]) ∘ RightMul(X[j]))' for j in 1:i]' HadMul(δ[i])] for i in 1:N])\n",
    "ImL = UnitLowerTriangular(Matrix{Any}(undef,N,N))\n",
    "for i in 2:N, j in 1:i-1\n",
    "    ImL[i,j] = -HadMul(δ[i]) ∘ params[i][j+1]\n",
    "end\n",
    "g  = [[Zero() for i=1:N-1]..., 𝓁′(X[N+1],y)]\n",
    "∇J = D'*fill.(ImL'\\g, 1, 1)"
   ]
  },
  {
   "cell_type": "code",
   "execution_count": 20,
   "metadata": {},
   "outputs": [],
   "source": [
    "# ∇Jfd is gradient calculated with finite differences method\n",
    "∇Jfd = params*0\n",
    "ϵ=params*0\n",
    "for i in 1:length(ϵ), j in 1:length(ϵ[i]), k in 1:length(ϵ[i][j])\n",
    "    ϵ[i][j][k] = 𝜀\n",
    "    ∇Jfd[i][j][k] =(𝓁(neural_net(params+ϵ,x)[1][N+1],y)-𝓁(neural_net(params-ϵ,x)[1][N+1],y))/2𝜀\n",
    "    ϵ[i][j][k] = .0\n",
    "end"
   ]
  },
  {
   "cell_type": "code",
   "execution_count": 21,
   "metadata": {},
   "outputs": [
    {
     "data": {
      "text/plain": [
       "4×5 Array{Float64,2}:\n",
       "  0.021951    -0.096897    -0.032047    -0.0250698   -0.0334673 \n",
       "  0.00560765  -0.0276877   -0.00867713  -0.00620658  -0.00929643\n",
       "  0.00198238  -0.00928748  -0.00295774  -0.00227595  -0.00317577\n",
       " -0.019175     0.0913346    0.0294824    0.022319     0.0309022 "
      ]
     },
     "execution_count": 21,
     "metadata": {},
     "output_type": "execute_result"
    }
   ],
   "source": [
    "∇Jfd[1][1]"
   ]
  },
  {
   "cell_type": "code",
   "execution_count": 22,
   "metadata": {},
   "outputs": [
    {
     "data": {
      "text/plain": [
       "-1.33566043589133e-5"
      ]
     },
     "execution_count": 22,
     "metadata": {},
     "output_type": "execute_result"
    }
   ],
   "source": [
    "∇J[1][1]"
   ]
  }
 ],
 "metadata": {
  "kernelspec": {
   "display_name": "Julia 1.1.0",
   "language": "julia",
   "name": "julia-1.1"
  },
  "language_info": {
   "file_extension": ".jl",
   "mimetype": "application/julia",
   "name": "julia",
   "version": "1.1.0"
  }
 },
 "nbformat": 4,
 "nbformat_minor": 2
}
